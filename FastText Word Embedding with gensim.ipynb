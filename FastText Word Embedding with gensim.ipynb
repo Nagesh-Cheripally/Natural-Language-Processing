{
 "cells": [
  {
   "cell_type": "markdown",
   "metadata": {},
   "source": [
    "# Word Embedding with FastText"
   ]
  },
  {
   "cell_type": "markdown",
   "metadata": {},
   "source": [
    "FastText is a library for performing NLP tasks such as word embedding and text classification. It is developed by Facebook. It employs both CBOW and skip-gram models in creating vector representation of words. Unlike Word2Vec implemnetation that suffer from the out of vocabulary (OOV) word problem FastText overcomes this problem by treating words as the average of individual characters in the text hence being able to predict the unkown words in the training corpus. However, FastText takes more time train as compared to the Word2Vec model. "
   ]
  },
  {
   "cell_type": "markdown",
   "metadata": {},
   "source": [
    "Import libraries"
   ]
  },
  {
   "cell_type": "code",
   "execution_count": 1,
   "metadata": {},
   "outputs": [],
   "source": [
    "import gensim\n",
    "import pandas as pd\n",
    "from nltk.tokenize import word_tokenize\n",
    "\n",
    "import warnings"
   ]
  },
  {
   "cell_type": "code",
   "execution_count": 2,
   "metadata": {},
   "outputs": [],
   "source": [
    "warnings.filterwarnings('ignore')"
   ]
  },
  {
   "cell_type": "markdown",
   "metadata": {},
   "source": [
    "Given the following tokenized text"
   ]
  },
  {
   "cell_type": "code",
   "execution_count": 3,
   "metadata": {},
   "outputs": [],
   "source": [
    "text = [['The','quick','brown','fox','jumped','over','the','lazy','dog']]"
   ]
  },
  {
   "cell_type": "code",
   "execution_count": 4,
   "metadata": {},
   "outputs": [
    {
     "data": {
      "text/plain": [
       "[['The', 'quick', 'brown', 'fox', 'jumped', 'over', 'the', 'lazy', 'dog']]"
      ]
     },
     "execution_count": 4,
     "metadata": {},
     "output_type": "execute_result"
    }
   ],
   "source": [
    "text"
   ]
  },
  {
   "cell_type": "markdown",
   "metadata": {},
   "source": [
    "Create FastText Model"
   ]
  },
  {
   "cell_type": "code",
   "execution_count": 5,
   "metadata": {},
   "outputs": [],
   "source": [
    "model=gensim.models.FastText(text, size=100, window=2, min_count=1, workers=4,sg=1,min_n=1)"
   ]
  },
  {
   "cell_type": "code",
   "execution_count": 6,
   "metadata": {},
   "outputs": [
    {
     "name": "stdout",
     "output_type": "stream",
     "text": [
      "FastText(vocab=9, size=100, alpha=0.025)\n"
     ]
    }
   ],
   "source": [
    "print(model)"
   ]
  },
  {
   "cell_type": "markdown",
   "metadata": {},
   "source": [
    "Show vocabulary"
   ]
  },
  {
   "cell_type": "code",
   "execution_count": 7,
   "metadata": {},
   "outputs": [
    {
     "data": {
      "text/plain": [
       "{'The': <gensim.models.keyedvectors.Vocab at 0x2839d57d6d8>,\n",
       " 'quick': <gensim.models.keyedvectors.Vocab at 0x2839d57d518>,\n",
       " 'brown': <gensim.models.keyedvectors.Vocab at 0x2839d57d550>,\n",
       " 'fox': <gensim.models.keyedvectors.Vocab at 0x2839d57d588>,\n",
       " 'jumped': <gensim.models.keyedvectors.Vocab at 0x2839d57d5c0>,\n",
       " 'over': <gensim.models.keyedvectors.Vocab at 0x2839d57d5f8>,\n",
       " 'the': <gensim.models.keyedvectors.Vocab at 0x2839d57d630>,\n",
       " 'lazy': <gensim.models.keyedvectors.Vocab at 0x2839d57d6a0>,\n",
       " 'dog': <gensim.models.keyedvectors.Vocab at 0x2839d57db38>}"
      ]
     },
     "execution_count": 7,
     "metadata": {},
     "output_type": "execute_result"
    }
   ],
   "source": [
    "model.wv.vocab"
   ]
  },
  {
   "cell_type": "markdown",
   "metadata": {},
   "source": [
    "Embedding size"
   ]
  },
  {
   "cell_type": "code",
   "execution_count": 8,
   "metadata": {},
   "outputs": [
    {
     "data": {
      "text/plain": [
       "100"
      ]
     },
     "execution_count": 8,
     "metadata": {},
     "output_type": "execute_result"
    }
   ],
   "source": [
    "model.wv.vector_size"
   ]
  },
  {
   "cell_type": "markdown",
   "metadata": {},
   "source": [
    "Number of words in the model"
   ]
  },
  {
   "cell_type": "code",
   "execution_count": 9,
   "metadata": {},
   "outputs": [
    {
     "data": {
      "text/plain": [
       "9"
      ]
     },
     "execution_count": 9,
     "metadata": {},
     "output_type": "execute_result"
    }
   ],
   "source": [
    "len(model.wv.vocab)"
   ]
  },
  {
   "cell_type": "markdown",
   "metadata": {},
   "source": [
    "Get the vector for the word"
   ]
  },
  {
   "cell_type": "code",
   "execution_count": 10,
   "metadata": {},
   "outputs": [
    {
     "data": {
      "text/plain": [
       "array([-1.4176186e-04, -8.9067698e-04,  3.8891474e-03,  2.5695378e-03,\n",
       "       -1.7134650e-03,  1.7198741e-03,  2.2002682e-04, -5.0427200e-04,\n",
       "        4.3807672e-03, -9.5034909e-04, -2.9343623e-04, -1.8652430e-03,\n",
       "        2.1255324e-03, -1.8820608e-03, -5.6179083e-04,  5.3679738e-05,\n",
       "       -6.4589398e-04, -2.8342693e-03,  2.0778158e-03,  7.9447945e-04,\n",
       "       -1.8359096e-03, -1.0908170e-03, -5.8449712e-04,  1.3403230e-03,\n",
       "        4.0305706e-04,  2.4212194e-03, -3.4421741e-03, -3.1474323e-04,\n",
       "       -1.0102881e-04, -1.5179611e-04, -9.5073803e-04, -1.6175084e-04,\n",
       "       -1.4757197e-03, -7.8404188e-04, -1.7160275e-04, -4.7489727e-04,\n",
       "       -3.7479012e-03,  5.1566778e-04, -2.1151400e-05,  1.2291519e-03,\n",
       "       -1.1457974e-03,  2.4619172e-04, -2.1266822e-04, -1.2059588e-03,\n",
       "        2.2159133e-03,  2.8339566e-03, -7.1660604e-04, -1.5639720e-03,\n",
       "       -1.2781285e-04,  1.3118693e-04,  3.3181368e-03,  9.9504809e-04,\n",
       "       -2.4623496e-03, -8.7316334e-04, -8.0615532e-04,  2.3007947e-03,\n",
       "        5.6144892e-04,  1.1492945e-04, -2.3252760e-04, -1.0495812e-03,\n",
       "        1.9652199e-03,  1.4363978e-03, -6.9145375e-04,  2.7386472e-03,\n",
       "        2.5869112e-03,  7.6890335e-04,  2.3719494e-03, -8.1749697e-04,\n",
       "       -8.5994031e-04, -8.6438272e-04,  1.1676119e-03, -1.8831651e-03,\n",
       "       -2.2364014e-03, -2.0791290e-03,  2.0089217e-03,  4.6546987e-04,\n",
       "        3.9516155e-05, -2.2581553e-03, -7.4082613e-04, -1.5597095e-03,\n",
       "        8.3800283e-04, -2.1101979e-03, -6.6077110e-04, -8.2512561e-04,\n",
       "        8.8436581e-04, -7.1127608e-04, -2.3604832e-03, -1.3936462e-03,\n",
       "        3.0317362e-03,  1.7979399e-03, -1.7777815e-03, -6.7658018e-04,\n",
       "        1.5027446e-03, -2.1834064e-03, -2.8100729e-03, -1.6667104e-03,\n",
       "       -2.0771730e-04, -1.0800797e-03,  1.1653116e-03, -8.3502913e-05],\n",
       "      dtype=float32)"
      ]
     },
     "execution_count": 10,
     "metadata": {},
     "output_type": "execute_result"
    }
   ],
   "source": [
    "model.wv['dog']"
   ]
  },
  {
   "cell_type": "markdown",
   "metadata": {},
   "source": [
    "Get similar words"
   ]
  },
  {
   "cell_type": "code",
   "execution_count": 11,
   "metadata": {},
   "outputs": [
    {
     "data": {
      "text/plain": [
       "[('fox', 0.07695597410202026),\n",
       " ('quick', 0.06328225880861282),\n",
       " ('over', 0.04278339445590973),\n",
       " ('jumped', 0.0007894337177276611),\n",
       " ('the', -0.07917296886444092)]"
      ]
     },
     "execution_count": 11,
     "metadata": {},
     "output_type": "execute_result"
    }
   ],
   "source": [
    "model.wv.most_similar('dog',topn=5)"
   ]
  },
  {
   "cell_type": "markdown",
   "metadata": {},
   "source": [
    "Get words similar to 'dog' or 'jumped'"
   ]
  },
  {
   "cell_type": "code",
   "execution_count": 12,
   "metadata": {},
   "outputs": [
    {
     "data": {
      "text/plain": [
       "[('fox', 0.08860601484775543),\n",
       " ('quick', 0.06956937909126282),\n",
       " ('the', 0.052219927310943604),\n",
       " ('lazy', -0.02684996835887432),\n",
       " ('The', -0.04585377126932144)]"
      ]
     },
     "execution_count": 12,
     "metadata": {},
     "output_type": "execute_result"
    }
   ],
   "source": [
    "model.wv.most_similar(['dog','jumped'],topn=5)"
   ]
  },
  {
   "cell_type": "markdown",
   "metadata": {},
   "source": [
    "Get disimilar words"
   ]
  },
  {
   "cell_type": "code",
   "execution_count": 13,
   "metadata": {},
   "outputs": [
    {
     "data": {
      "text/plain": [
       "'cat'"
      ]
     },
     "execution_count": 13,
     "metadata": {},
     "output_type": "execute_result"
    }
   ],
   "source": [
    "model.wv.doesnt_match(['dog','cat'])"
   ]
  },
  {
   "cell_type": "markdown",
   "metadata": {},
   "source": [
    "Get similarity index between words"
   ]
  },
  {
   "cell_type": "code",
   "execution_count": 14,
   "metadata": {},
   "outputs": [
    {
     "data": {
      "text/plain": [
       "0.076955974"
      ]
     },
     "execution_count": 14,
     "metadata": {},
     "output_type": "execute_result"
    }
   ],
   "source": [
    "model.wv.similarity('dog','fox')"
   ]
  },
  {
   "cell_type": "code",
   "execution_count": 15,
   "metadata": {},
   "outputs": [
    {
     "data": {
      "text/plain": [
       "-0.03192065"
      ]
     },
     "execution_count": 15,
     "metadata": {},
     "output_type": "execute_result"
    }
   ],
   "source": [
    "model.wv.similarity('dog','cat')"
   ]
  },
  {
   "cell_type": "markdown",
   "metadata": {},
   "source": [
    "Tacking out of vocabulary (OOV) word problem.<hr> The word Elephant does't occure in our training corpus but the model can approximate its vector."
   ]
  },
  {
   "cell_type": "code",
   "execution_count": 16,
   "metadata": {},
   "outputs": [
    {
     "data": {
      "text/plain": [
       "array([ 2.1511593e-03,  3.8176755e-04,  1.4032318e-03, -3.5268543e-04,\n",
       "        1.1208318e-03,  8.0412319e-05, -3.5473134e-04,  8.4583741e-04,\n",
       "        8.7807031e-04,  4.6867627e-04, -3.9382291e-04,  9.5001975e-04,\n",
       "       -9.8662346e-04, -1.1218158e-03, -1.4597934e-03, -1.2757437e-03,\n",
       "        6.7832938e-04,  2.8072970e-04, -1.0720185e-03, -3.0953035e-04,\n",
       "       -1.1760935e-03, -1.1959377e-03,  4.5601607e-04, -2.4174016e-04,\n",
       "        4.3237748e-04, -1.2577324e-03,  1.5623691e-03, -5.0138333e-04,\n",
       "        4.5538074e-04, -6.8542932e-04,  9.5980830e-04,  1.2120079e-03,\n",
       "        1.0422956e-03, -6.5210270e-04, -5.0693809e-04, -6.1966921e-04,\n",
       "        4.8274716e-04,  1.3960593e-03, -7.3872402e-04, -1.5125867e-03,\n",
       "       -2.1353830e-04,  1.3970184e-03,  1.7122459e-03, -5.9309979e-05,\n",
       "       -3.0222876e-04,  5.5010732e-05,  2.0579759e-04,  6.8118877e-04,\n",
       "       -5.6362519e-04, -7.3218491e-04,  6.6722365e-05,  6.3822250e-04,\n",
       "        4.7766938e-04, -6.1266997e-04, -1.0063048e-06,  1.0841808e-05,\n",
       "        7.1606797e-04, -3.9854099e-04,  1.7413861e-03, -4.0855043e-04,\n",
       "       -8.8613591e-04,  1.2334712e-03, -9.9206378e-04, -1.4562827e-03,\n",
       "        1.9253386e-05,  5.4823741e-04,  1.3813708e-04, -2.2928923e-05,\n",
       "        5.0704537e-05,  3.9414701e-04,  4.2879858e-04, -1.6708810e-04,\n",
       "       -1.1195544e-03,  3.1389919e-04, -8.1061886e-04,  1.8832789e-04,\n",
       "        6.1255814e-05,  4.3743837e-04, -3.3531181e-04,  4.2737069e-04,\n",
       "        6.5486005e-04,  1.1693474e-03, -3.8785627e-04, -3.3529670e-04,\n",
       "       -1.0380396e-03,  8.5990375e-04,  5.2686053e-04, -3.8086213e-04,\n",
       "       -6.5158057e-04, -4.3757883e-04, -1.0295942e-03,  7.8895612e-04,\n",
       "        8.4205007e-04, -2.1138312e-03,  2.3234045e-04,  2.2358045e-05,\n",
       "        1.0662229e-03, -6.3871645e-04, -1.6840650e-03,  1.0121416e-03],\n",
       "      dtype=float32)"
      ]
     },
     "execution_count": 16,
     "metadata": {},
     "output_type": "execute_result"
    }
   ],
   "source": [
    "model.wv['Elephant']"
   ]
  },
  {
   "cell_type": "code",
   "execution_count": 17,
   "metadata": {},
   "outputs": [
    {
     "data": {
      "text/plain": [
       "[('fox', 0.2621423006057739),\n",
       " ('quick', 0.15453022718429565),\n",
       " ('over', 0.07030598819255829),\n",
       " ('jumped', 0.06264208257198334),\n",
       " ('brown', 0.06171374022960663)]"
      ]
     },
     "execution_count": 17,
     "metadata": {},
     "output_type": "execute_result"
    }
   ],
   "source": [
    "model.wv.most_similar('Elephant',topn=5)"
   ]
  },
  {
   "cell_type": "code",
   "execution_count": 18,
   "metadata": {},
   "outputs": [
    {
     "data": {
      "text/plain": [
       "[('jumped', 0.5389863848686218),\n",
       " ('dog', 0.1440437287092209),\n",
       " ('fox', 0.042089514434337616),\n",
       " ('quick', 0.034181419759988785),\n",
       " ('lazy', 0.01689363829791546)]"
      ]
     },
     "execution_count": 18,
     "metadata": {},
     "output_type": "execute_result"
    }
   ],
   "source": [
    "model.wv.most_similar('jum',topn=5)"
   ]
  },
  {
   "cell_type": "markdown",
   "metadata": {},
   "source": [
    "##### Creating embedding from dataframe data"
   ]
  },
  {
   "cell_type": "markdown",
   "metadata": {},
   "source": [
    "Load data"
   ]
  },
  {
   "cell_type": "code",
   "execution_count": 19,
   "metadata": {},
   "outputs": [],
   "source": [
    "df=pd.read_csv('datasets/Sentiment Analysis on Movie Reviews/train.tsv',sep='\\t')"
   ]
  },
  {
   "cell_type": "code",
   "execution_count": 20,
   "metadata": {},
   "outputs": [
    {
     "data": {
      "text/html": [
       "<div>\n",
       "<style scoped>\n",
       "    .dataframe tbody tr th:only-of-type {\n",
       "        vertical-align: middle;\n",
       "    }\n",
       "\n",
       "    .dataframe tbody tr th {\n",
       "        vertical-align: top;\n",
       "    }\n",
       "\n",
       "    .dataframe thead th {\n",
       "        text-align: right;\n",
       "    }\n",
       "</style>\n",
       "<table border=\"1\" class=\"dataframe\">\n",
       "  <thead>\n",
       "    <tr style=\"text-align: right;\">\n",
       "      <th></th>\n",
       "      <th>PhraseId</th>\n",
       "      <th>SentenceId</th>\n",
       "      <th>Phrase</th>\n",
       "      <th>Sentiment</th>\n",
       "    </tr>\n",
       "  </thead>\n",
       "  <tbody>\n",
       "    <tr>\n",
       "      <th>0</th>\n",
       "      <td>1</td>\n",
       "      <td>1</td>\n",
       "      <td>A series of escapades demonstrating the adage ...</td>\n",
       "      <td>1</td>\n",
       "    </tr>\n",
       "    <tr>\n",
       "      <th>1</th>\n",
       "      <td>2</td>\n",
       "      <td>1</td>\n",
       "      <td>A series of escapades demonstrating the adage ...</td>\n",
       "      <td>2</td>\n",
       "    </tr>\n",
       "    <tr>\n",
       "      <th>2</th>\n",
       "      <td>3</td>\n",
       "      <td>1</td>\n",
       "      <td>A series</td>\n",
       "      <td>2</td>\n",
       "    </tr>\n",
       "    <tr>\n",
       "      <th>3</th>\n",
       "      <td>4</td>\n",
       "      <td>1</td>\n",
       "      <td>A</td>\n",
       "      <td>2</td>\n",
       "    </tr>\n",
       "    <tr>\n",
       "      <th>4</th>\n",
       "      <td>5</td>\n",
       "      <td>1</td>\n",
       "      <td>series</td>\n",
       "      <td>2</td>\n",
       "    </tr>\n",
       "  </tbody>\n",
       "</table>\n",
       "</div>"
      ],
      "text/plain": [
       "   PhraseId  SentenceId                                             Phrase  \\\n",
       "0         1           1  A series of escapades demonstrating the adage ...   \n",
       "1         2           1  A series of escapades demonstrating the adage ...   \n",
       "2         3           1                                           A series   \n",
       "3         4           1                                                  A   \n",
       "4         5           1                                             series   \n",
       "\n",
       "   Sentiment  \n",
       "0          1  \n",
       "1          2  \n",
       "2          2  \n",
       "3          2  \n",
       "4          2  "
      ]
     },
     "execution_count": 20,
     "metadata": {},
     "output_type": "execute_result"
    }
   ],
   "source": [
    "df.head()"
   ]
  },
  {
   "cell_type": "markdown",
   "metadata": {},
   "source": [
    "Tokenize the Phrase into words"
   ]
  },
  {
   "cell_type": "code",
   "execution_count": 21,
   "metadata": {},
   "outputs": [],
   "source": [
    "df['token']=df['Phrase'].apply(lambda x: word_tokenize(x))"
   ]
  },
  {
   "cell_type": "markdown",
   "metadata": {},
   "source": [
    "Create FastText model"
   ]
  },
  {
   "cell_type": "code",
   "execution_count": 22,
   "metadata": {},
   "outputs": [],
   "source": [
    "fasttext_model=gensim.models.FastText(text, size=100, window=10, min_count=1, workers=4,min_n=3)"
   ]
  },
  {
   "cell_type": "code",
   "execution_count": 23,
   "metadata": {},
   "outputs": [
    {
     "data": {
      "text/plain": [
       "<gensim.models.fasttext.FastText at 0x283a3b5b518>"
      ]
     },
     "execution_count": 23,
     "metadata": {},
     "output_type": "execute_result"
    }
   ],
   "source": [
    "fasttext_model"
   ]
  },
  {
   "cell_type": "markdown",
   "metadata": {},
   "source": [
    "Words in the model"
   ]
  },
  {
   "cell_type": "code",
   "execution_count": 24,
   "metadata": {},
   "outputs": [
    {
     "data": {
      "text/plain": [
       "9"
      ]
     },
     "execution_count": 24,
     "metadata": {},
     "output_type": "execute_result"
    }
   ],
   "source": [
    "len(fasttext_model.wv.vocab)"
   ]
  },
  {
   "cell_type": "markdown",
   "metadata": {},
   "source": [
    "We can now perform other analyses on the embedding (similarity, differences e.t.c) as above ..."
   ]
  }
 ],
 "metadata": {
  "kernelspec": {
   "display_name": "Python 3",
   "language": "python",
   "name": "python3"
  },
  "language_info": {
   "codemirror_mode": {
    "name": "ipython",
    "version": 3
   },
   "file_extension": ".py",
   "mimetype": "text/x-python",
   "name": "python",
   "nbconvert_exporter": "python",
   "pygments_lexer": "ipython3",
   "version": "3.6.5"
  }
 },
 "nbformat": 4,
 "nbformat_minor": 2
}
